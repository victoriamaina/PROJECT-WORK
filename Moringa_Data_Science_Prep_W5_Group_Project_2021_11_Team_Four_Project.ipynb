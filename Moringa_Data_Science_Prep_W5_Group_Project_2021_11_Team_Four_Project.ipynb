{
  "nbformat": 4,
  "nbformat_minor": 0,
  "metadata": {
    "colab": {
      "name": "Moringa_Data_Science_Prep_W5_Group_Project_2021_11_Team_Four_Project",
      "provenance": [],
      "collapsed_sections": [
        "VSnOCZ5-IPCi",
        "HToJZ2gBPawZ",
        "IICLGbvBRYHq",
        "RAVzK5O6IR8v",
        "ogvHnWWk0URF",
        "4_l-hjNT0ljY",
        "Wg_HInjk0rJG",
        "po-2IDPd0vdL",
        "dr1eyGZzt83Z"
      ],
      "include_colab_link": true
    },
    "kernelspec": {
      "name": "python3",
      "display_name": "Python 3"
    }
  },
  "cells": [
    {
      "cell_type": "markdown",
      "metadata": {
        "id": "view-in-github",
        "colab_type": "text"
      },
      "source": [
        "<a href=\"https://colab.research.google.com/github/victoriamaina/PROJECT-WORK/blob/main/Moringa_Data_Science_Prep_W5_Group_Project_2021_11_Team_Four_Project.ipynb\" target=\"_parent\"><img src=\"https://colab.research.google.com/assets/colab-badge.svg\" alt=\"Open In Colab\"/></a>"
      ]
    },
    {
      "cell_type": "markdown",
      "metadata": {
        "id": "m0tgCkvzPLEa"
      },
      "source": [
        "# ** KENYAN CONFLICTS**\n",
        "**DEFINING THE QUESTION.**\n",
        "\n",
        "**a) Specifying the Data Analytic Question**\n",
        "The research problem is to figure out what were the major causes of conflicts, which cities did they most occur and who were the main perpetrators.\n",
        "\n",
        "**b)Defining the Metric for Success**\n",
        "This analysis requires us to come up with a solution that will help reduce the no of conflicts abundantly and be able to focus on the development of the country.\n",
        "We therefore need to identify  major causes of conflicts ,who wee the major perpertors and how were they involved.and ulitimately which cities were most affected by the conflicts.\n",
        "We will implement the solution by analysing our data and providing insights that arise.\n",
        "\n",
        "**c) Understanding the context**\n",
        "National peace is a treasure that most countries desire to achieve. Conflicts have been a major cause of disruption of activities in Kenya both nationwide and in localities . Conflict has hindered development and led to various problems in the country. Finding the major causes of conflict in Kenya can help the Ministry of Interior & Coordination of National Government focus on stopping those particular conflicts. Therefore, with increased conflicts on a region we tend to have minimal developments  which is essential to long-term economic growth.\n",
        "The data that we are working with in this analysis is in the context of Kenyan conflicts. The main dataset contains cities ,date and years when the conflicts happened,types of conflicts and who were involved in the conflicts and no of fatalities in each case. This data was extracted from** ACLED Conflict Data for Kenya**\n",
        "An understanding of main causes  is key to finding a solution on how to end conflicts.\n",
        "\n",
        "**d) Recording the Experimental Design**\n",
        "Below are the steps i took to implement this solution\n",
        "\n",
        "**1) Business Understanding:** This sheds light to the context of the business question that we are trying to answer hence keep the focus during the data analysis so that we meet the intended objective.\n",
        "\n",
        "**2) Reading the data:** Reading our data with and aim to understand the variables and observations.\n",
        "\n",
        "**3) Checking our data:** This to get details about the dataset, the number of records, the statistal summary,the datatypes in our dataset among others.\n",
        "\n",
        "**4) Data cleaning:** We performed all my data cleaning and preparation to make my data ready for analysis.\n",
        "\n",
        "**5) Challenged the solution:**\n",
        "\n",
        "**6)Conclusion:**\n"
      ]
    },
    {
      "cell_type": "markdown",
      "metadata": {
        "id": "VSnOCZ5-IPCi"
      },
      "source": [
        "## 1.0 Importing our Libraries"
      ]
    },
    {
      "cell_type": "code",
      "metadata": {
        "id": "3r-KDLvrO44a"
      },
      "source": [
        "# Importing the libraries we will need \n",
        "# Importing the pandas library\n",
        "import pandas as pd\n",
        "\n",
        "# Importing the numpy library\n",
        "import numpy as np\n",
        "\n",
        "#Importing matplotlib library\n",
        "import matplotlib.pyplot as plt"
      ],
      "execution_count": 1,
      "outputs": []
    },
    {
      "cell_type": "markdown",
      "metadata": {
        "id": "HToJZ2gBPawZ"
      },
      "source": [
        "## 1.1 Reading the Dataset from our CSV file\n",
        "\n"
      ]
    },
    {
      "cell_type": "markdown",
      "metadata": {
        "id": "LBUr8VUXQX-K"
      },
      "source": [
        "\n",
        "\n",
        "The dataset we will use contains Kenyan conflicts between 1978 and 2015.\n",
        "\n",
        "\n",
        "\n",
        "*   Dataset link for download or access: [Link](https://data.world/acled/8fc7bcd9-5daa-44a8-b219-e707af2cd4a8)\n",
        "\n",
        "\n",
        "\n"
      ]
    },
    {
      "cell_type": "code",
      "metadata": {
        "id": "1acwmZanRNHs"
      },
      "source": [
        "# Let's load the data from the excel file and create the dataframe to be used\n",
        "\n",
        "df=pd.read_excel(\"/content/Kenyan Conflicts.xlsx\")"
      ],
      "execution_count": 2,
      "outputs": []
    },
    {
      "cell_type": "markdown",
      "metadata": {
        "id": "IICLGbvBRYHq"
      },
      "source": [
        "## 1.2 Previewing our Dataset\n"
      ]
    },
    {
      "cell_type": "code",
      "metadata": {
        "id": "WrwHg-hzR5BY",
        "colab": {
          "base_uri": "https://localhost:8080/",
          "height": 1000
        },
        "outputId": "235425e7-a8fb-405e-bf15-3926d6954ca7"
      },
      "source": [
        "#Previewing the first ten rows of our data\n",
        "df.head(10)"
      ],
      "execution_count": 3,
      "outputs": [
        {
          "output_type": "execute_result",
          "data": {
            "text/html": [
              "<div>\n",
              "<style scoped>\n",
              "    .dataframe tbody tr th:only-of-type {\n",
              "        vertical-align: middle;\n",
              "    }\n",
              "\n",
              "    .dataframe tbody tr th {\n",
              "        vertical-align: top;\n",
              "    }\n",
              "\n",
              "    .dataframe thead th {\n",
              "        text-align: right;\n",
              "    }\n",
              "</style>\n",
              "<table border=\"1\" class=\"dataframe\">\n",
              "  <thead>\n",
              "    <tr style=\"text-align: right;\">\n",
              "      <th></th>\n",
              "      <th>GWNO</th>\n",
              "      <th>EVENT_ID_CNTY</th>\n",
              "      <th>EVENT_ID_NO_CNTY</th>\n",
              "      <th>EVENT_DATE</th>\n",
              "      <th>YEAR</th>\n",
              "      <th>TIME_PRECISION</th>\n",
              "      <th>EVENT_TYPE</th>\n",
              "      <th>ACTOR1</th>\n",
              "      <th>ALLY_ACTOR_1</th>\n",
              "      <th>INTER1</th>\n",
              "      <th>ACTOR2</th>\n",
              "      <th>ALLY_ACTOR_2</th>\n",
              "      <th>INTER2</th>\n",
              "      <th>INTERACTION</th>\n",
              "      <th>COUNTRY</th>\n",
              "      <th>ADMIN1</th>\n",
              "      <th>ADMIN2</th>\n",
              "      <th>ADMIN3</th>\n",
              "      <th>LOCATION</th>\n",
              "      <th>LATITUDE</th>\n",
              "      <th>LONGITUDE</th>\n",
              "      <th>GEO_PRECISION</th>\n",
              "      <th>SOURCE</th>\n",
              "      <th>NOTES</th>\n",
              "      <th>FATALITIES</th>\n",
              "    </tr>\n",
              "  </thead>\n",
              "  <tbody>\n",
              "    <tr>\n",
              "      <th>0</th>\n",
              "      <td>501</td>\n",
              "      <td>1KEN</td>\n",
              "      <td>37437</td>\n",
              "      <td>1997-01-15</td>\n",
              "      <td>1997</td>\n",
              "      <td>3</td>\n",
              "      <td>Violence against civilians</td>\n",
              "      <td>Police Forces of Kenya (1978-2002)</td>\n",
              "      <td>NaN</td>\n",
              "      <td>1</td>\n",
              "      <td>Civilians (Kenya)</td>\n",
              "      <td>Samburu Ethnic Group (Kenya); Turkana Ethnic G...</td>\n",
              "      <td>7</td>\n",
              "      <td>17</td>\n",
              "      <td>Kenya</td>\n",
              "      <td>Turkana</td>\n",
              "      <td>Turkana East</td>\n",
              "      <td>Katilia</td>\n",
              "      <td>Suguta Valley</td>\n",
              "      <td>2.16667</td>\n",
              "      <td>36.51667</td>\n",
              "      <td>1</td>\n",
              "      <td>BBC Monitoring Service: Africa</td>\n",
              "      <td>Police cause unknown number of fatalities as t...</td>\n",
              "      <td>10</td>\n",
              "    </tr>\n",
              "    <tr>\n",
              "      <th>1</th>\n",
              "      <td>501</td>\n",
              "      <td>2KEN</td>\n",
              "      <td>37438</td>\n",
              "      <td>1997-01-22</td>\n",
              "      <td>1997</td>\n",
              "      <td>1</td>\n",
              "      <td>Violence against civilians</td>\n",
              "      <td>Police Forces of Kenya (1978-2002)</td>\n",
              "      <td>NaN</td>\n",
              "      <td>1</td>\n",
              "      <td>Civilians (International)</td>\n",
              "      <td>Wardei Ethnic Group (Kenya)</td>\n",
              "      <td>7</td>\n",
              "      <td>17</td>\n",
              "      <td>Kenya</td>\n",
              "      <td>Nakuru</td>\n",
              "      <td>Nakuru Town East</td>\n",
              "      <td>Kivumbini</td>\n",
              "      <td>Nakuru</td>\n",
              "      <td>-0.30000</td>\n",
              "      <td>36.08330</td>\n",
              "      <td>1</td>\n",
              "      <td>Reuters News</td>\n",
              "      <td>Police shot and killed an Irish priest (Fr. La...</td>\n",
              "      <td>1</td>\n",
              "    </tr>\n",
              "    <tr>\n",
              "      <th>2</th>\n",
              "      <td>501</td>\n",
              "      <td>3KEN</td>\n",
              "      <td>37439</td>\n",
              "      <td>1997-01-23</td>\n",
              "      <td>1997</td>\n",
              "      <td>1</td>\n",
              "      <td>Violence against civilians</td>\n",
              "      <td>Giriama Ethnic Militia (Kenya)</td>\n",
              "      <td>NaN</td>\n",
              "      <td>4</td>\n",
              "      <td>Civilians (Somalia)</td>\n",
              "      <td>IDPs/Refugees (Somalia)</td>\n",
              "      <td>7</td>\n",
              "      <td>47</td>\n",
              "      <td>Kenya</td>\n",
              "      <td>Mombasa</td>\n",
              "      <td>Mvita</td>\n",
              "      <td>Tononoka</td>\n",
              "      <td>Mombasa</td>\n",
              "      <td>-4.05000</td>\n",
              "      <td>39.66667</td>\n",
              "      <td>1</td>\n",
              "      <td>Reuters News</td>\n",
              "      <td>Two Somali refugees are burnt to death when a ...</td>\n",
              "      <td>2</td>\n",
              "    </tr>\n",
              "    <tr>\n",
              "      <th>3</th>\n",
              "      <td>501</td>\n",
              "      <td>4KEN</td>\n",
              "      <td>37440</td>\n",
              "      <td>1997-01-25</td>\n",
              "      <td>1997</td>\n",
              "      <td>1</td>\n",
              "      <td>Riots/Protests</td>\n",
              "      <td>Protesters (Kenya)</td>\n",
              "      <td>Catholic Group (Kenya)</td>\n",
              "      <td>6</td>\n",
              "      <td>NaN</td>\n",
              "      <td>NaN</td>\n",
              "      <td>0</td>\n",
              "      <td>60</td>\n",
              "      <td>Kenya</td>\n",
              "      <td>Nakuru</td>\n",
              "      <td>Nakuru Town East</td>\n",
              "      <td>Kivumbini</td>\n",
              "      <td>Nakuru</td>\n",
              "      <td>-0.30000</td>\n",
              "      <td>36.08330</td>\n",
              "      <td>1</td>\n",
              "      <td>Associated Press International</td>\n",
              "      <td>Roman Catholic Church leaders protest the poli...</td>\n",
              "      <td>0</td>\n",
              "    </tr>\n",
              "    <tr>\n",
              "      <th>4</th>\n",
              "      <td>501</td>\n",
              "      <td>5KEN</td>\n",
              "      <td>37441</td>\n",
              "      <td>1997-02-09</td>\n",
              "      <td>1997</td>\n",
              "      <td>1</td>\n",
              "      <td>Violence against civilians</td>\n",
              "      <td>Police Forces of Kenya (1978-2002)</td>\n",
              "      <td>NaN</td>\n",
              "      <td>1</td>\n",
              "      <td>Civilians (Kenya)</td>\n",
              "      <td>Safina Political Party</td>\n",
              "      <td>7</td>\n",
              "      <td>17</td>\n",
              "      <td>Kenya</td>\n",
              "      <td>Nyeri</td>\n",
              "      <td>Nyeri Town</td>\n",
              "      <td>Rware</td>\n",
              "      <td>Nyeri</td>\n",
              "      <td>-0.41667</td>\n",
              "      <td>36.95000</td>\n",
              "      <td>1</td>\n",
              "      <td>Reuters News; Agence France Presse; Associated...</td>\n",
              "      <td>Two members of Safina party and bystanders wer...</td>\n",
              "      <td>0</td>\n",
              "    </tr>\n",
              "    <tr>\n",
              "      <th>5</th>\n",
              "      <td>501</td>\n",
              "      <td>6KEN</td>\n",
              "      <td>37442</td>\n",
              "      <td>1997-02-18</td>\n",
              "      <td>1997</td>\n",
              "      <td>1</td>\n",
              "      <td>Violence against civilians</td>\n",
              "      <td>Unidentified Armed Group (Ethiopia)</td>\n",
              "      <td>NaN</td>\n",
              "      <td>3</td>\n",
              "      <td>Civilians (Kenya)</td>\n",
              "      <td>NARC: National Rainbow Coalition</td>\n",
              "      <td>7</td>\n",
              "      <td>37</td>\n",
              "      <td>Kenya</td>\n",
              "      <td>Turkana</td>\n",
              "      <td>Turkana North</td>\n",
              "      <td>Lake Zone</td>\n",
              "      <td>Todenyang</td>\n",
              "      <td>4.53333</td>\n",
              "      <td>35.93333</td>\n",
              "      <td>1</td>\n",
              "      <td>BBC Monitoring Service: Africa</td>\n",
              "      <td>Armed raiders from Ethiopia cross the Kenyan b...</td>\n",
              "      <td>8</td>\n",
              "    </tr>\n",
              "    <tr>\n",
              "      <th>6</th>\n",
              "      <td>501</td>\n",
              "      <td>8KEN</td>\n",
              "      <td>37443</td>\n",
              "      <td>1997-02-23</td>\n",
              "      <td>1997</td>\n",
              "      <td>1</td>\n",
              "      <td>Remote violence</td>\n",
              "      <td>Unidentified Armed Group (Kenya)</td>\n",
              "      <td>NaN</td>\n",
              "      <td>3</td>\n",
              "      <td>Civilians (Kenya)</td>\n",
              "      <td>Students (Kenya); Luhya Ethnic Group (Kenya)</td>\n",
              "      <td>7</td>\n",
              "      <td>37</td>\n",
              "      <td>Kenya</td>\n",
              "      <td>Kiambu</td>\n",
              "      <td>Kiambu</td>\n",
              "      <td>Riabai</td>\n",
              "      <td>Kikuyu Township</td>\n",
              "      <td>-1.16660</td>\n",
              "      <td>36.83330</td>\n",
              "      <td>1</td>\n",
              "      <td>Xinhua; Associated Press</td>\n",
              "      <td>A student leader is killed after a bomb explod...</td>\n",
              "      <td>1</td>\n",
              "    </tr>\n",
              "    <tr>\n",
              "      <th>7</th>\n",
              "      <td>501</td>\n",
              "      <td>7KEN</td>\n",
              "      <td>37444</td>\n",
              "      <td>1997-02-23</td>\n",
              "      <td>1997</td>\n",
              "      <td>1</td>\n",
              "      <td>Riots/Protests</td>\n",
              "      <td>Rioters (Kenya)</td>\n",
              "      <td>Students (Kenya)</td>\n",
              "      <td>5</td>\n",
              "      <td>NaN</td>\n",
              "      <td>NaN</td>\n",
              "      <td>0</td>\n",
              "      <td>50</td>\n",
              "      <td>Kenya</td>\n",
              "      <td>Nairobi</td>\n",
              "      <td>Starehe</td>\n",
              "      <td>Nairobi Central</td>\n",
              "      <td>Nairobi</td>\n",
              "      <td>-1.28333</td>\n",
              "      <td>36.81667</td>\n",
              "      <td>1</td>\n",
              "      <td>Reuters News; Agence France Presse</td>\n",
              "      <td>Hundreds of University of Nairobi students too...</td>\n",
              "      <td>0</td>\n",
              "    </tr>\n",
              "    <tr>\n",
              "      <th>8</th>\n",
              "      <td>501</td>\n",
              "      <td>10KEN</td>\n",
              "      <td>37445</td>\n",
              "      <td>1997-02-24</td>\n",
              "      <td>1997</td>\n",
              "      <td>1</td>\n",
              "      <td>Riots/Protests</td>\n",
              "      <td>Rioters (Kenya)</td>\n",
              "      <td>Students (Kenya)</td>\n",
              "      <td>5</td>\n",
              "      <td>NaN</td>\n",
              "      <td>NaN</td>\n",
              "      <td>0</td>\n",
              "      <td>50</td>\n",
              "      <td>Kenya</td>\n",
              "      <td>Nakuru</td>\n",
              "      <td>Nakuru Town East</td>\n",
              "      <td>Kivumbini</td>\n",
              "      <td>Nakuru</td>\n",
              "      <td>-0.30000</td>\n",
              "      <td>36.08330</td>\n",
              "      <td>1</td>\n",
              "      <td>Agence France Presse</td>\n",
              "      <td>Egerton University students in Nakuru proteste...</td>\n",
              "      <td>0</td>\n",
              "    </tr>\n",
              "    <tr>\n",
              "      <th>9</th>\n",
              "      <td>501</td>\n",
              "      <td>9KEN</td>\n",
              "      <td>37446</td>\n",
              "      <td>1997-02-24</td>\n",
              "      <td>1997</td>\n",
              "      <td>1</td>\n",
              "      <td>Riots/Protests</td>\n",
              "      <td>Rioters (Kenya)</td>\n",
              "      <td>Students (Kenya)</td>\n",
              "      <td>5</td>\n",
              "      <td>NaN</td>\n",
              "      <td>NaN</td>\n",
              "      <td>0</td>\n",
              "      <td>50</td>\n",
              "      <td>Kenya</td>\n",
              "      <td>Nairobi</td>\n",
              "      <td>Starehe</td>\n",
              "      <td>Nairobi Central</td>\n",
              "      <td>Nairobi</td>\n",
              "      <td>-1.28333</td>\n",
              "      <td>36.81667</td>\n",
              "      <td>1</td>\n",
              "      <td>Xinhua</td>\n",
              "      <td>Second day of students rioting after death of ...</td>\n",
              "      <td>0</td>\n",
              "    </tr>\n",
              "  </tbody>\n",
              "</table>\n",
              "</div>"
            ],
            "text/plain": [
              "   GWNO  ... FATALITIES\n",
              "0   501  ...         10\n",
              "1   501  ...          1\n",
              "2   501  ...          2\n",
              "3   501  ...          0\n",
              "4   501  ...          0\n",
              "5   501  ...          8\n",
              "6   501  ...          1\n",
              "7   501  ...          0\n",
              "8   501  ...          0\n",
              "9   501  ...          0\n",
              "\n",
              "[10 rows x 25 columns]"
            ]
          },
          "metadata": {},
          "execution_count": 3
        }
      ]
    },
    {
      "cell_type": "code",
      "metadata": {
        "colab": {
          "base_uri": "https://localhost:8080/",
          "height": 1000
        },
        "id": "c2hv4bUX83iI",
        "outputId": "542641c8-9a00-4c17-9127-5bf08eaefa30"
      },
      "source": [
        "#Previewing the last ten rows of our data\n",
        "df.tail(10)"
      ],
      "execution_count": 4,
      "outputs": [
        {
          "output_type": "execute_result",
          "data": {
            "text/html": [
              "<div>\n",
              "<style scoped>\n",
              "    .dataframe tbody tr th:only-of-type {\n",
              "        vertical-align: middle;\n",
              "    }\n",
              "\n",
              "    .dataframe tbody tr th {\n",
              "        vertical-align: top;\n",
              "    }\n",
              "\n",
              "    .dataframe thead th {\n",
              "        text-align: right;\n",
              "    }\n",
              "</style>\n",
              "<table border=\"1\" class=\"dataframe\">\n",
              "  <thead>\n",
              "    <tr style=\"text-align: right;\">\n",
              "      <th></th>\n",
              "      <th>GWNO</th>\n",
              "      <th>EVENT_ID_CNTY</th>\n",
              "      <th>EVENT_ID_NO_CNTY</th>\n",
              "      <th>EVENT_DATE</th>\n",
              "      <th>YEAR</th>\n",
              "      <th>TIME_PRECISION</th>\n",
              "      <th>EVENT_TYPE</th>\n",
              "      <th>ACTOR1</th>\n",
              "      <th>ALLY_ACTOR_1</th>\n",
              "      <th>INTER1</th>\n",
              "      <th>ACTOR2</th>\n",
              "      <th>ALLY_ACTOR_2</th>\n",
              "      <th>INTER2</th>\n",
              "      <th>INTERACTION</th>\n",
              "      <th>COUNTRY</th>\n",
              "      <th>ADMIN1</th>\n",
              "      <th>ADMIN2</th>\n",
              "      <th>ADMIN3</th>\n",
              "      <th>LOCATION</th>\n",
              "      <th>LATITUDE</th>\n",
              "      <th>LONGITUDE</th>\n",
              "      <th>GEO_PRECISION</th>\n",
              "      <th>SOURCE</th>\n",
              "      <th>NOTES</th>\n",
              "      <th>FATALITIES</th>\n",
              "    </tr>\n",
              "  </thead>\n",
              "  <tbody>\n",
              "    <tr>\n",
              "      <th>5031</th>\n",
              "      <td>501</td>\n",
              "      <td>5032KEN</td>\n",
              "      <td>42468</td>\n",
              "      <td>2015-12-26</td>\n",
              "      <td>2015</td>\n",
              "      <td>1</td>\n",
              "      <td>Battle-No change of territory</td>\n",
              "      <td>Kalenjin Ethnic Militia (Kenya)</td>\n",
              "      <td>NaN</td>\n",
              "      <td>4</td>\n",
              "      <td>Maasai Ethnic Militia (Kenya)</td>\n",
              "      <td>NaN</td>\n",
              "      <td>4</td>\n",
              "      <td>44</td>\n",
              "      <td>Kenya</td>\n",
              "      <td>Narok</td>\n",
              "      <td>Narok West</td>\n",
              "      <td>Naikarra</td>\n",
              "      <td>Olposimoru</td>\n",
              "      <td>-1.816670</td>\n",
              "      <td>35.500000</td>\n",
              "      <td>2</td>\n",
              "      <td>Daily Nation</td>\n",
              "      <td>Four are injured in continued clashes between ...</td>\n",
              "      <td>0</td>\n",
              "    </tr>\n",
              "    <tr>\n",
              "      <th>5032</th>\n",
              "      <td>501</td>\n",
              "      <td>5034KEN</td>\n",
              "      <td>42469</td>\n",
              "      <td>2015-12-26</td>\n",
              "      <td>2015</td>\n",
              "      <td>1</td>\n",
              "      <td>Remote violence</td>\n",
              "      <td>Police Forces of Kenya (2013-)</td>\n",
              "      <td>NaN</td>\n",
              "      <td>1</td>\n",
              "      <td>Al Shabaab</td>\n",
              "      <td>NaN</td>\n",
              "      <td>2</td>\n",
              "      <td>12</td>\n",
              "      <td>Kenya</td>\n",
              "      <td>Mandera</td>\n",
              "      <td>Mandera East</td>\n",
              "      <td>Township</td>\n",
              "      <td>Mandera</td>\n",
              "      <td>3.935725</td>\n",
              "      <td>41.854211</td>\n",
              "      <td>1</td>\n",
              "      <td>Associated Press</td>\n",
              "      <td>A member of al Shabaab, attempting to plant a ...</td>\n",
              "      <td>1</td>\n",
              "    </tr>\n",
              "    <tr>\n",
              "      <th>5033</th>\n",
              "      <td>501</td>\n",
              "      <td>5033KEN</td>\n",
              "      <td>42470</td>\n",
              "      <td>2015-12-26</td>\n",
              "      <td>2015</td>\n",
              "      <td>1</td>\n",
              "      <td>Violence against civilians</td>\n",
              "      <td>Vigilante Militia (Kenya)</td>\n",
              "      <td>NaN</td>\n",
              "      <td>4</td>\n",
              "      <td>Civilians (Kenya)</td>\n",
              "      <td>NaN</td>\n",
              "      <td>7</td>\n",
              "      <td>47</td>\n",
              "      <td>Kenya</td>\n",
              "      <td>Machakos</td>\n",
              "      <td>Mwala</td>\n",
              "      <td>Kibauni</td>\n",
              "      <td>Ndithini</td>\n",
              "      <td>-1.583330</td>\n",
              "      <td>37.683330</td>\n",
              "      <td>1</td>\n",
              "      <td>The Star (Nairobi)</td>\n",
              "      <td>Two suspected thieves are lynched in Ndithini ...</td>\n",
              "      <td>2</td>\n",
              "    </tr>\n",
              "    <tr>\n",
              "      <th>5034</th>\n",
              "      <td>501</td>\n",
              "      <td>5035KEN</td>\n",
              "      <td>42471</td>\n",
              "      <td>2015-12-27</td>\n",
              "      <td>2015</td>\n",
              "      <td>1</td>\n",
              "      <td>Battle-No change of territory</td>\n",
              "      <td>Kalenjin Ethnic Militia (Kenya)</td>\n",
              "      <td>NaN</td>\n",
              "      <td>4</td>\n",
              "      <td>Maasai Ethnic Militia (Kenya)</td>\n",
              "      <td>NaN</td>\n",
              "      <td>4</td>\n",
              "      <td>44</td>\n",
              "      <td>Kenya</td>\n",
              "      <td>Narok</td>\n",
              "      <td>Narok West</td>\n",
              "      <td>Naikarra</td>\n",
              "      <td>Olposimoru</td>\n",
              "      <td>-1.816670</td>\n",
              "      <td>35.500000</td>\n",
              "      <td>2</td>\n",
              "      <td>The Star (Nairobi)</td>\n",
              "      <td>Three are killed in renewed clashes between Ka...</td>\n",
              "      <td>3</td>\n",
              "    </tr>\n",
              "    <tr>\n",
              "      <th>5035</th>\n",
              "      <td>501</td>\n",
              "      <td>5036KEN</td>\n",
              "      <td>42472</td>\n",
              "      <td>2015-12-27</td>\n",
              "      <td>2015</td>\n",
              "      <td>1</td>\n",
              "      <td>Battle-No change of territory</td>\n",
              "      <td>Police Forces of Kenya (2013-)</td>\n",
              "      <td>NaN</td>\n",
              "      <td>1</td>\n",
              "      <td>Al Shabaab</td>\n",
              "      <td>NaN</td>\n",
              "      <td>2</td>\n",
              "      <td>12</td>\n",
              "      <td>Kenya</td>\n",
              "      <td>Mandera</td>\n",
              "      <td>Mandera South</td>\n",
              "      <td>Elwak South</td>\n",
              "      <td>El Wak</td>\n",
              "      <td>2.809440</td>\n",
              "      <td>40.935830</td>\n",
              "      <td>2</td>\n",
              "      <td>Agence France Presse</td>\n",
              "      <td>Two police are attacked on 27/12 along the Laf...</td>\n",
              "      <td>4</td>\n",
              "    </tr>\n",
              "    <tr>\n",
              "      <th>5036</th>\n",
              "      <td>501</td>\n",
              "      <td>5038KEN</td>\n",
              "      <td>42473</td>\n",
              "      <td>2015-12-28</td>\n",
              "      <td>2015</td>\n",
              "      <td>1</td>\n",
              "      <td>Remote violence</td>\n",
              "      <td>Al Shabaab</td>\n",
              "      <td>NaN</td>\n",
              "      <td>2</td>\n",
              "      <td>Civilians (Kenya)</td>\n",
              "      <td>NaN</td>\n",
              "      <td>7</td>\n",
              "      <td>27</td>\n",
              "      <td>Kenya</td>\n",
              "      <td>Mandera</td>\n",
              "      <td>Mandera East</td>\n",
              "      <td>Township</td>\n",
              "      <td>Mandera</td>\n",
              "      <td>3.935725</td>\n",
              "      <td>41.854211</td>\n",
              "      <td>1</td>\n",
              "      <td>Capital FM</td>\n",
              "      <td>Three people were killed and two others injure...</td>\n",
              "      <td>3</td>\n",
              "    </tr>\n",
              "    <tr>\n",
              "      <th>5037</th>\n",
              "      <td>501</td>\n",
              "      <td>5037KEN</td>\n",
              "      <td>42474</td>\n",
              "      <td>2015-12-28</td>\n",
              "      <td>2015</td>\n",
              "      <td>1</td>\n",
              "      <td>Riots/Protests</td>\n",
              "      <td>Rioters (Kenya)</td>\n",
              "      <td>NaN</td>\n",
              "      <td>5</td>\n",
              "      <td>Police Forces of Kenya (2013-)</td>\n",
              "      <td>NaN</td>\n",
              "      <td>1</td>\n",
              "      <td>15</td>\n",
              "      <td>Kenya</td>\n",
              "      <td>Mombasa</td>\n",
              "      <td>Nyali</td>\n",
              "      <td>Ziwa La NgOmbe</td>\n",
              "      <td>Bombolulu</td>\n",
              "      <td>-4.023489</td>\n",
              "      <td>39.703738</td>\n",
              "      <td>1</td>\n",
              "      <td>The Star (Nairobi)</td>\n",
              "      <td>Police clash with a group of matatu operators ...</td>\n",
              "      <td>0</td>\n",
              "    </tr>\n",
              "    <tr>\n",
              "      <th>5038</th>\n",
              "      <td>501</td>\n",
              "      <td>5039KEN</td>\n",
              "      <td>42475</td>\n",
              "      <td>2015-12-28</td>\n",
              "      <td>2015</td>\n",
              "      <td>1</td>\n",
              "      <td>Riots/Protests</td>\n",
              "      <td>Protesters (Kenya)</td>\n",
              "      <td>NaN</td>\n",
              "      <td>6</td>\n",
              "      <td>NaN</td>\n",
              "      <td>NaN</td>\n",
              "      <td>0</td>\n",
              "      <td>60</td>\n",
              "      <td>Kenya</td>\n",
              "      <td>Mandera</td>\n",
              "      <td>Mandera East</td>\n",
              "      <td>Township</td>\n",
              "      <td>Mandera</td>\n",
              "      <td>3.935725</td>\n",
              "      <td>41.854211</td>\n",
              "      <td>1</td>\n",
              "      <td>Capital FM</td>\n",
              "      <td>Three people were killed and two others injure...</td>\n",
              "      <td>0</td>\n",
              "    </tr>\n",
              "    <tr>\n",
              "      <th>5039</th>\n",
              "      <td>501</td>\n",
              "      <td>5040KEN</td>\n",
              "      <td>42476</td>\n",
              "      <td>2015-12-29</td>\n",
              "      <td>2015</td>\n",
              "      <td>1</td>\n",
              "      <td>Violence against civilians</td>\n",
              "      <td>Vigilante Militia (Kenya)</td>\n",
              "      <td>NaN</td>\n",
              "      <td>4</td>\n",
              "      <td>Civilians (Kenya)</td>\n",
              "      <td>NaN</td>\n",
              "      <td>7</td>\n",
              "      <td>47</td>\n",
              "      <td>Kenya</td>\n",
              "      <td>Kisumu</td>\n",
              "      <td>Nyakach</td>\n",
              "      <td>South West Nyakach</td>\n",
              "      <td>Nyakach</td>\n",
              "      <td>-0.383458</td>\n",
              "      <td>34.932411</td>\n",
              "      <td>1</td>\n",
              "      <td>The Star (Nairobi)</td>\n",
              "      <td>Vigilantes lynch four suspected cattle thieves...</td>\n",
              "      <td>4</td>\n",
              "    </tr>\n",
              "    <tr>\n",
              "      <th>5040</th>\n",
              "      <td>501</td>\n",
              "      <td>5041KEN</td>\n",
              "      <td>42477</td>\n",
              "      <td>2015-12-30</td>\n",
              "      <td>2015</td>\n",
              "      <td>1</td>\n",
              "      <td>Violence against civilians</td>\n",
              "      <td>Vigilante Militia (Kenya)</td>\n",
              "      <td>NaN</td>\n",
              "      <td>4</td>\n",
              "      <td>Civilians (Kenya)</td>\n",
              "      <td>NaN</td>\n",
              "      <td>7</td>\n",
              "      <td>47</td>\n",
              "      <td>Kenya</td>\n",
              "      <td>Embu</td>\n",
              "      <td>Mbeere South</td>\n",
              "      <td>Mavuria</td>\n",
              "      <td>Gikiiro</td>\n",
              "      <td>-0.666670</td>\n",
              "      <td>37.633330</td>\n",
              "      <td>1</td>\n",
              "      <td>The Star (Nairobi)</td>\n",
              "      <td>A pair of thieves are attacked and nearly lync...</td>\n",
              "      <td>0</td>\n",
              "    </tr>\n",
              "  </tbody>\n",
              "</table>\n",
              "</div>"
            ],
            "text/plain": [
              "      GWNO  ... FATALITIES\n",
              "5031   501  ...          0\n",
              "5032   501  ...          1\n",
              "5033   501  ...          2\n",
              "5034   501  ...          3\n",
              "5035   501  ...          4\n",
              "5036   501  ...          3\n",
              "5037   501  ...          0\n",
              "5038   501  ...          0\n",
              "5039   501  ...          4\n",
              "5040   501  ...          0\n",
              "\n",
              "[10 rows x 25 columns]"
            ]
          },
          "metadata": {},
          "execution_count": 4
        }
      ]
    },
    {
      "cell_type": "markdown",
      "metadata": {
        "id": "RAVzK5O6IR8v"
      },
      "source": [
        "## 1.3 Accessing Information about our Dataset"
      ]
    },
    {
      "cell_type": "markdown",
      "metadata": {
        "id": "5W7cyaIpJdaC"
      },
      "source": [
        "We might need to convert columns to the respective datatypes. This observation can be made by accessing information about the dataset."
      ]
    },
    {
      "cell_type": "code",
      "metadata": {
        "id": "0d2kfemDIYWI",
        "colab": {
          "base_uri": "https://localhost:8080/"
        },
        "outputId": "d98e160e-94a3-4fa0-dbf9-1360dacde012"
      },
      "source": [
        "# Getting to know more about the dataset by accessing its information\n",
        "\n",
        "df.info()"
      ],
      "execution_count": 5,
      "outputs": [
        {
          "output_type": "stream",
          "name": "stdout",
          "text": [
            "<class 'pandas.core.frame.DataFrame'>\n",
            "RangeIndex: 5041 entries, 0 to 5040\n",
            "Data columns (total 25 columns):\n",
            " #   Column            Non-Null Count  Dtype         \n",
            "---  ------            --------------  -----         \n",
            " 0   GWNO              5041 non-null   int64         \n",
            " 1   EVENT_ID_CNTY     5041 non-null   object        \n",
            " 2   EVENT_ID_NO_CNTY  5041 non-null   int64         \n",
            " 3   EVENT_DATE        5041 non-null   datetime64[ns]\n",
            " 4   YEAR              5041 non-null   int64         \n",
            " 5   TIME_PRECISION    5041 non-null   int64         \n",
            " 6   EVENT_TYPE        5041 non-null   object        \n",
            " 7   ACTOR1            5041 non-null   object        \n",
            " 8   ALLY_ACTOR_1      531 non-null    object        \n",
            " 9   INTER1            5041 non-null   int64         \n",
            " 10  ACTOR2            3562 non-null   object        \n",
            " 11  ALLY_ACTOR_2      538 non-null    object        \n",
            " 12  INTER2            5041 non-null   int64         \n",
            " 13  INTERACTION       5041 non-null   int64         \n",
            " 14  COUNTRY           5041 non-null   object        \n",
            " 15  ADMIN1            5041 non-null   object        \n",
            " 16  ADMIN2            5041 non-null   object        \n",
            " 17  ADMIN3            5041 non-null   object        \n",
            " 18  LOCATION          5041 non-null   object        \n",
            " 19  LATITUDE          5041 non-null   float64       \n",
            " 20  LONGITUDE         5041 non-null   float64       \n",
            " 21  GEO_PRECISION     5041 non-null   int64         \n",
            " 22  SOURCE            5039 non-null   object        \n",
            " 23  NOTES             5037 non-null   object        \n",
            " 24  FATALITIES        5041 non-null   int64         \n",
            "dtypes: datetime64[ns](1), float64(2), int64(9), object(13)\n",
            "memory usage: 984.7+ KB\n"
          ]
        }
      ]
    },
    {
      "cell_type": "code",
      "metadata": {
        "colab": {
          "base_uri": "https://localhost:8080/"
        },
        "id": "TZVsGoiHa16K",
        "outputId": "d9679b61-3000-40cb-802f-0284e07bf834"
      },
      "source": [
        "#We get the shape of the dataset\n",
        "df.shape"
      ],
      "execution_count": 6,
      "outputs": [
        {
          "output_type": "execute_result",
          "data": {
            "text/plain": [
              "(5041, 25)"
            ]
          },
          "metadata": {},
          "execution_count": 6
        }
      ]
    },
    {
      "cell_type": "code",
      "metadata": {
        "id": "dvgFzTn7iSpT"
      },
      "source": [
        "#Creating a copy of the dataset so that we can clean the data without affecting the main dataset\n",
        "df1 = df.copy(deep = True)"
      ],
      "execution_count": 7,
      "outputs": []
    },
    {
      "cell_type": "markdown",
      "metadata": {
        "id": "R9S2o1WXIhq1"
      },
      "source": [
        "## 1.4 Cleaning our Dataset"
      ]
    },
    {
      "cell_type": "markdown",
      "metadata": {
        "id": "AsBK7q0M0B5p"
      },
      "source": [
        "Let us perform data cleaning procedures below providing a documentation for our actions. We will perform as many data cleaning procedures as we think suitable for the various dimensions of data."
      ]
    },
    {
      "cell_type": "markdown",
      "metadata": {
        "id": "LgLPmaP60MCY"
      },
      "source": [
        "### 1.) Validity <font color=\"green\"></font>"
      ]
    },
    {
      "cell_type": "code",
      "metadata": {
        "id": "Xu8_fwqE0S_1",
        "colab": {
          "base_uri": "https://localhost:8080/",
          "height": 521
        },
        "outputId": "aeebc73f-0766-4a56-e70b-427320c7ebae"
      },
      "source": [
        "# Procedure 1:\n",
        "# Data Cleaning Action: Dropping columns\n",
        "# Explanation: We drop columns that are not relevant to the research we are doing.\n",
        "#\n",
        "df1 = df1.drop(['EVENT_ID_NO_CNTY', 'LONGITUDE', 'LATITUDE', 'NOTES', 'SOURCE', 'GWNO', 'TIME_PRECISION', 'EVENT_DATE'], axis=1)\n",
        "df1.head(5)"
      ],
      "execution_count": 8,
      "outputs": [
        {
          "output_type": "execute_result",
          "data": {
            "text/html": [
              "<div>\n",
              "<style scoped>\n",
              "    .dataframe tbody tr th:only-of-type {\n",
              "        vertical-align: middle;\n",
              "    }\n",
              "\n",
              "    .dataframe tbody tr th {\n",
              "        vertical-align: top;\n",
              "    }\n",
              "\n",
              "    .dataframe thead th {\n",
              "        text-align: right;\n",
              "    }\n",
              "</style>\n",
              "<table border=\"1\" class=\"dataframe\">\n",
              "  <thead>\n",
              "    <tr style=\"text-align: right;\">\n",
              "      <th></th>\n",
              "      <th>EVENT_ID_CNTY</th>\n",
              "      <th>YEAR</th>\n",
              "      <th>EVENT_TYPE</th>\n",
              "      <th>ACTOR1</th>\n",
              "      <th>ALLY_ACTOR_1</th>\n",
              "      <th>INTER1</th>\n",
              "      <th>ACTOR2</th>\n",
              "      <th>ALLY_ACTOR_2</th>\n",
              "      <th>INTER2</th>\n",
              "      <th>INTERACTION</th>\n",
              "      <th>COUNTRY</th>\n",
              "      <th>ADMIN1</th>\n",
              "      <th>ADMIN2</th>\n",
              "      <th>ADMIN3</th>\n",
              "      <th>LOCATION</th>\n",
              "      <th>GEO_PRECISION</th>\n",
              "      <th>FATALITIES</th>\n",
              "    </tr>\n",
              "  </thead>\n",
              "  <tbody>\n",
              "    <tr>\n",
              "      <th>0</th>\n",
              "      <td>1KEN</td>\n",
              "      <td>1997</td>\n",
              "      <td>Violence against civilians</td>\n",
              "      <td>Police Forces of Kenya (1978-2002)</td>\n",
              "      <td>NaN</td>\n",
              "      <td>1</td>\n",
              "      <td>Civilians (Kenya)</td>\n",
              "      <td>Samburu Ethnic Group (Kenya); Turkana Ethnic G...</td>\n",
              "      <td>7</td>\n",
              "      <td>17</td>\n",
              "      <td>Kenya</td>\n",
              "      <td>Turkana</td>\n",
              "      <td>Turkana East</td>\n",
              "      <td>Katilia</td>\n",
              "      <td>Suguta Valley</td>\n",
              "      <td>1</td>\n",
              "      <td>10</td>\n",
              "    </tr>\n",
              "    <tr>\n",
              "      <th>1</th>\n",
              "      <td>2KEN</td>\n",
              "      <td>1997</td>\n",
              "      <td>Violence against civilians</td>\n",
              "      <td>Police Forces of Kenya (1978-2002)</td>\n",
              "      <td>NaN</td>\n",
              "      <td>1</td>\n",
              "      <td>Civilians (International)</td>\n",
              "      <td>Wardei Ethnic Group (Kenya)</td>\n",
              "      <td>7</td>\n",
              "      <td>17</td>\n",
              "      <td>Kenya</td>\n",
              "      <td>Nakuru</td>\n",
              "      <td>Nakuru Town East</td>\n",
              "      <td>Kivumbini</td>\n",
              "      <td>Nakuru</td>\n",
              "      <td>1</td>\n",
              "      <td>1</td>\n",
              "    </tr>\n",
              "    <tr>\n",
              "      <th>2</th>\n",
              "      <td>3KEN</td>\n",
              "      <td>1997</td>\n",
              "      <td>Violence against civilians</td>\n",
              "      <td>Giriama Ethnic Militia (Kenya)</td>\n",
              "      <td>NaN</td>\n",
              "      <td>4</td>\n",
              "      <td>Civilians (Somalia)</td>\n",
              "      <td>IDPs/Refugees (Somalia)</td>\n",
              "      <td>7</td>\n",
              "      <td>47</td>\n",
              "      <td>Kenya</td>\n",
              "      <td>Mombasa</td>\n",
              "      <td>Mvita</td>\n",
              "      <td>Tononoka</td>\n",
              "      <td>Mombasa</td>\n",
              "      <td>1</td>\n",
              "      <td>2</td>\n",
              "    </tr>\n",
              "    <tr>\n",
              "      <th>3</th>\n",
              "      <td>4KEN</td>\n",
              "      <td>1997</td>\n",
              "      <td>Riots/Protests</td>\n",
              "      <td>Protesters (Kenya)</td>\n",
              "      <td>Catholic Group (Kenya)</td>\n",
              "      <td>6</td>\n",
              "      <td>NaN</td>\n",
              "      <td>NaN</td>\n",
              "      <td>0</td>\n",
              "      <td>60</td>\n",
              "      <td>Kenya</td>\n",
              "      <td>Nakuru</td>\n",
              "      <td>Nakuru Town East</td>\n",
              "      <td>Kivumbini</td>\n",
              "      <td>Nakuru</td>\n",
              "      <td>1</td>\n",
              "      <td>0</td>\n",
              "    </tr>\n",
              "    <tr>\n",
              "      <th>4</th>\n",
              "      <td>5KEN</td>\n",
              "      <td>1997</td>\n",
              "      <td>Violence against civilians</td>\n",
              "      <td>Police Forces of Kenya (1978-2002)</td>\n",
              "      <td>NaN</td>\n",
              "      <td>1</td>\n",
              "      <td>Civilians (Kenya)</td>\n",
              "      <td>Safina Political Party</td>\n",
              "      <td>7</td>\n",
              "      <td>17</td>\n",
              "      <td>Kenya</td>\n",
              "      <td>Nyeri</td>\n",
              "      <td>Nyeri Town</td>\n",
              "      <td>Rware</td>\n",
              "      <td>Nyeri</td>\n",
              "      <td>1</td>\n",
              "      <td>0</td>\n",
              "    </tr>\n",
              "  </tbody>\n",
              "</table>\n",
              "</div>"
            ],
            "text/plain": [
              "  EVENT_ID_CNTY  YEAR  ... GEO_PRECISION FATALITIES\n",
              "0          1KEN  1997  ...             1         10\n",
              "1          2KEN  1997  ...             1          1\n",
              "2          3KEN  1997  ...             1          2\n",
              "3          4KEN  1997  ...             1          0\n",
              "4          5KEN  1997  ...             1          0\n",
              "\n",
              "[5 rows x 17 columns]"
            ]
          },
          "metadata": {},
          "execution_count": 8
        }
      ]
    },
    {
      "cell_type": "code",
      "metadata": {
        "id": "3Hegrubg0Zns",
        "colab": {
          "base_uri": "https://localhost:8080/",
          "height": 389
        },
        "outputId": "c6f792d5-edf3-4185-eb91-566448810c73"
      },
      "source": [
        "# Procedure 2:\n",
        "# Data Cleaning Action: Strip leading and trailing spaces\n",
        "# Explanation: Strip the leading and trailing spaces \n",
        "df1['EVENT_TYPE'] = df1['EVENT_TYPE'].str.strip()\n",
        "df1.head(3)"
      ],
      "execution_count": 9,
      "outputs": [
        {
          "output_type": "execute_result",
          "data": {
            "text/html": [
              "<div>\n",
              "<style scoped>\n",
              "    .dataframe tbody tr th:only-of-type {\n",
              "        vertical-align: middle;\n",
              "    }\n",
              "\n",
              "    .dataframe tbody tr th {\n",
              "        vertical-align: top;\n",
              "    }\n",
              "\n",
              "    .dataframe thead th {\n",
              "        text-align: right;\n",
              "    }\n",
              "</style>\n",
              "<table border=\"1\" class=\"dataframe\">\n",
              "  <thead>\n",
              "    <tr style=\"text-align: right;\">\n",
              "      <th></th>\n",
              "      <th>EVENT_ID_CNTY</th>\n",
              "      <th>YEAR</th>\n",
              "      <th>EVENT_TYPE</th>\n",
              "      <th>ACTOR1</th>\n",
              "      <th>ALLY_ACTOR_1</th>\n",
              "      <th>INTER1</th>\n",
              "      <th>ACTOR2</th>\n",
              "      <th>ALLY_ACTOR_2</th>\n",
              "      <th>INTER2</th>\n",
              "      <th>INTERACTION</th>\n",
              "      <th>COUNTRY</th>\n",
              "      <th>ADMIN1</th>\n",
              "      <th>ADMIN2</th>\n",
              "      <th>ADMIN3</th>\n",
              "      <th>LOCATION</th>\n",
              "      <th>GEO_PRECISION</th>\n",
              "      <th>FATALITIES</th>\n",
              "    </tr>\n",
              "  </thead>\n",
              "  <tbody>\n",
              "    <tr>\n",
              "      <th>0</th>\n",
              "      <td>1KEN</td>\n",
              "      <td>1997</td>\n",
              "      <td>Violence against civilians</td>\n",
              "      <td>Police Forces of Kenya (1978-2002)</td>\n",
              "      <td>NaN</td>\n",
              "      <td>1</td>\n",
              "      <td>Civilians (Kenya)</td>\n",
              "      <td>Samburu Ethnic Group (Kenya); Turkana Ethnic G...</td>\n",
              "      <td>7</td>\n",
              "      <td>17</td>\n",
              "      <td>Kenya</td>\n",
              "      <td>Turkana</td>\n",
              "      <td>Turkana East</td>\n",
              "      <td>Katilia</td>\n",
              "      <td>Suguta Valley</td>\n",
              "      <td>1</td>\n",
              "      <td>10</td>\n",
              "    </tr>\n",
              "    <tr>\n",
              "      <th>1</th>\n",
              "      <td>2KEN</td>\n",
              "      <td>1997</td>\n",
              "      <td>Violence against civilians</td>\n",
              "      <td>Police Forces of Kenya (1978-2002)</td>\n",
              "      <td>NaN</td>\n",
              "      <td>1</td>\n",
              "      <td>Civilians (International)</td>\n",
              "      <td>Wardei Ethnic Group (Kenya)</td>\n",
              "      <td>7</td>\n",
              "      <td>17</td>\n",
              "      <td>Kenya</td>\n",
              "      <td>Nakuru</td>\n",
              "      <td>Nakuru Town East</td>\n",
              "      <td>Kivumbini</td>\n",
              "      <td>Nakuru</td>\n",
              "      <td>1</td>\n",
              "      <td>1</td>\n",
              "    </tr>\n",
              "    <tr>\n",
              "      <th>2</th>\n",
              "      <td>3KEN</td>\n",
              "      <td>1997</td>\n",
              "      <td>Violence against civilians</td>\n",
              "      <td>Giriama Ethnic Militia (Kenya)</td>\n",
              "      <td>NaN</td>\n",
              "      <td>4</td>\n",
              "      <td>Civilians (Somalia)</td>\n",
              "      <td>IDPs/Refugees (Somalia)</td>\n",
              "      <td>7</td>\n",
              "      <td>47</td>\n",
              "      <td>Kenya</td>\n",
              "      <td>Mombasa</td>\n",
              "      <td>Mvita</td>\n",
              "      <td>Tononoka</td>\n",
              "      <td>Mombasa</td>\n",
              "      <td>1</td>\n",
              "      <td>2</td>\n",
              "    </tr>\n",
              "  </tbody>\n",
              "</table>\n",
              "</div>"
            ],
            "text/plain": [
              "  EVENT_ID_CNTY  YEAR  ... GEO_PRECISION FATALITIES\n",
              "0          1KEN  1997  ...             1         10\n",
              "1          2KEN  1997  ...             1          1\n",
              "2          3KEN  1997  ...             1          2\n",
              "\n",
              "[3 rows x 17 columns]"
            ]
          },
          "metadata": {},
          "execution_count": 9
        }
      ]
    },
    {
      "cell_type": "code",
      "metadata": {
        "colab": {
          "base_uri": "https://localhost:8080/",
          "height": 283
        },
        "id": "gymeGLf4rCQr",
        "outputId": "5405f093-2811-422d-e548-0e443b95ba5b"
      },
      "source": [
        "#Procedure 3:\n",
        "#Data Cleaning Action: Outliers\n",
        "#Explanation: There are existing outliers but they won;t be dropped as they are \n",
        "#true values to the data\n",
        "\n",
        "df1.boxplot(column =[\"FATALITIES\"], grid = False)"
      ],
      "execution_count": 10,
      "outputs": [
        {
          "output_type": "execute_result",
          "data": {
            "text/plain": [
              "<matplotlib.axes._subplots.AxesSubplot at 0x7f1b0062a4d0>"
            ]
          },
          "metadata": {},
          "execution_count": 10
        },
        {
          "output_type": "display_data",
          "data": {
            "image/png": "[encoded data removed]",
            "text/plain": [
              "<Figure size 432x288 with 1 Axes>"
            ]
          },
          "metadata": {
            "needs_background": "light"
          }
        }
      ]
    },
    {
      "cell_type": "markdown",
      "metadata": {
        "id": "WYDfLUXw2Qi1"
      },
      "source": [
        "**plotting the outlier for the colum \"fatalities\""
      ]
    },
    {
      "cell_type": "markdown",
      "metadata": {
        "id": "ogvHnWWk0URF"
      },
      "source": [
        "### 2.) Accuracy <font color=\"green\"></font>"
      ]
    },
    {
      "cell_type": "code",
      "metadata": {
        "id": "fGR0p3580fCX"
      },
      "source": [
        "# Procedure 1:\n",
        "# Data Cleaning Action: No action\n",
        "# Explanation: There are no accuracy errors in the dataset"
      ],
      "execution_count": 11,
      "outputs": []
    },
    {
      "cell_type": "markdown",
      "metadata": {
        "id": "4_l-hjNT0ljY"
      },
      "source": [
        "### 3.) Completeness"
      ]
    },
    {
      "cell_type": "code",
      "metadata": {
        "id": "GchjhobG0nu8",
        "colab": {
          "base_uri": "https://localhost:8080/"
        },
        "outputId": "561ec411-1c79-4d53-d963-109a3d38a9f2"
      },
      "source": [
        "# Procedure 1:\n",
        "# Data Cleaning Action: Checking for null values\n",
        "# Explanation: Checking for any null values\n",
        "df1.isnull().any()"
      ],
      "execution_count": 12,
      "outputs": [
        {
          "output_type": "execute_result",
          "data": {
            "text/plain": [
              "EVENT_ID_CNTY    False\n",
              "YEAR             False\n",
              "EVENT_TYPE       False\n",
              "ACTOR1           False\n",
              "ALLY_ACTOR_1      True\n",
              "INTER1           False\n",
              "ACTOR2            True\n",
              "ALLY_ACTOR_2      True\n",
              "INTER2           False\n",
              "INTERACTION      False\n",
              "COUNTRY          False\n",
              "ADMIN1           False\n",
              "ADMIN2           False\n",
              "ADMIN3           False\n",
              "LOCATION         False\n",
              "GEO_PRECISION    False\n",
              "FATALITIES       False\n",
              "dtype: bool"
            ]
          },
          "metadata": {},
          "execution_count": 12
        }
      ]
    },
    {
      "cell_type": "code",
      "metadata": {
        "colab": {
          "base_uri": "https://localhost:8080/"
        },
        "id": "tMkiMt3Hm2c5",
        "outputId": "4f1fc3dc-634c-4e0d-c908-e78fb2ada178"
      },
      "source": [
        "#checking the sum of null values in descending order\n",
        "df1.isnull().sum().sort_values(ascending=False)"
      ],
      "execution_count": 13,
      "outputs": [
        {
          "output_type": "execute_result",
          "data": {
            "text/plain": [
              "ALLY_ACTOR_1     4510\n",
              "ALLY_ACTOR_2     4503\n",
              "ACTOR2           1479\n",
              "FATALITIES          0\n",
              "YEAR                0\n",
              "EVENT_TYPE          0\n",
              "ACTOR1              0\n",
              "INTER1              0\n",
              "INTER2              0\n",
              "GEO_PRECISION       0\n",
              "INTERACTION         0\n",
              "COUNTRY             0\n",
              "ADMIN1              0\n",
              "ADMIN2              0\n",
              "ADMIN3              0\n",
              "LOCATION            0\n",
              "EVENT_ID_CNTY       0\n",
              "dtype: int64"
            ]
          },
          "metadata": {},
          "execution_count": 13
        }
      ]
    },
    {
      "cell_type": "code",
      "metadata": {
        "colab": {
          "base_uri": "https://localhost:8080/",
          "height": 521
        },
        "id": "68t1hkT0d6gc",
        "outputId": "6871b7ba-33cb-4a20-8fa1-0e57229325b6"
      },
      "source": [
        "# Procedure 2:\n",
        "# Data Cleaning Action: Dropping null values\n",
        "# Explanation: We will use the the dropna function with setting being at all. This will only drop rows that are made of only null values\n",
        "#\n",
        "df1.dropna(how='all').head(5)"
      ],
      "execution_count": 14,
      "outputs": [
        {
          "output_type": "execute_result",
          "data": {
            "text/html": [
              "<div>\n",
              "<style scoped>\n",
              "    .dataframe tbody tr th:only-of-type {\n",
              "        vertical-align: middle;\n",
              "    }\n",
              "\n",
              "    .dataframe tbody tr th {\n",
              "        vertical-align: top;\n",
              "    }\n",
              "\n",
              "    .dataframe thead th {\n",
              "        text-align: right;\n",
              "    }\n",
              "</style>\n",
              "<table border=\"1\" class=\"dataframe\">\n",
              "  <thead>\n",
              "    <tr style=\"text-align: right;\">\n",
              "      <th></th>\n",
              "      <th>EVENT_ID_CNTY</th>\n",
              "      <th>YEAR</th>\n",
              "      <th>EVENT_TYPE</th>\n",
              "      <th>ACTOR1</th>\n",
              "      <th>ALLY_ACTOR_1</th>\n",
              "      <th>INTER1</th>\n",
              "      <th>ACTOR2</th>\n",
              "      <th>ALLY_ACTOR_2</th>\n",
              "      <th>INTER2</th>\n",
              "      <th>INTERACTION</th>\n",
              "      <th>COUNTRY</th>\n",
              "      <th>ADMIN1</th>\n",
              "      <th>ADMIN2</th>\n",
              "      <th>ADMIN3</th>\n",
              "      <th>LOCATION</th>\n",
              "      <th>GEO_PRECISION</th>\n",
              "      <th>FATALITIES</th>\n",
              "    </tr>\n",
              "  </thead>\n",
              "  <tbody>\n",
              "    <tr>\n",
              "      <th>0</th>\n",
              "      <td>1KEN</td>\n",
              "      <td>1997</td>\n",
              "      <td>Violence against civilians</td>\n",
              "      <td>Police Forces of Kenya (1978-2002)</td>\n",
              "      <td>NaN</td>\n",
              "      <td>1</td>\n",
              "      <td>Civilians (Kenya)</td>\n",
              "      <td>Samburu Ethnic Group (Kenya); Turkana Ethnic G...</td>\n",
              "      <td>7</td>\n",
              "      <td>17</td>\n",
              "      <td>Kenya</td>\n",
              "      <td>Turkana</td>\n",
              "      <td>Turkana East</td>\n",
              "      <td>Katilia</td>\n",
              "      <td>Suguta Valley</td>\n",
              "      <td>1</td>\n",
              "      <td>10</td>\n",
              "    </tr>\n",
              "    <tr>\n",
              "      <th>1</th>\n",
              "      <td>2KEN</td>\n",
              "      <td>1997</td>\n",
              "      <td>Violence against civilians</td>\n",
              "      <td>Police Forces of Kenya (1978-2002)</td>\n",
              "      <td>NaN</td>\n",
              "      <td>1</td>\n",
              "      <td>Civilians (International)</td>\n",
              "      <td>Wardei Ethnic Group (Kenya)</td>\n",
              "      <td>7</td>\n",
              "      <td>17</td>\n",
              "      <td>Kenya</td>\n",
              "      <td>Nakuru</td>\n",
              "      <td>Nakuru Town East</td>\n",
              "      <td>Kivumbini</td>\n",
              "      <td>Nakuru</td>\n",
              "      <td>1</td>\n",
              "      <td>1</td>\n",
              "    </tr>\n",
              "    <tr>\n",
              "      <th>2</th>\n",
              "      <td>3KEN</td>\n",
              "      <td>1997</td>\n",
              "      <td>Violence against civilians</td>\n",
              "      <td>Giriama Ethnic Militia (Kenya)</td>\n",
              "      <td>NaN</td>\n",
              "      <td>4</td>\n",
              "      <td>Civilians (Somalia)</td>\n",
              "      <td>IDPs/Refugees (Somalia)</td>\n",
              "      <td>7</td>\n",
              "      <td>47</td>\n",
              "      <td>Kenya</td>\n",
              "      <td>Mombasa</td>\n",
              "      <td>Mvita</td>\n",
              "      <td>Tononoka</td>\n",
              "      <td>Mombasa</td>\n",
              "      <td>1</td>\n",
              "      <td>2</td>\n",
              "    </tr>\n",
              "    <tr>\n",
              "      <th>3</th>\n",
              "      <td>4KEN</td>\n",
              "      <td>1997</td>\n",
              "      <td>Riots/Protests</td>\n",
              "      <td>Protesters (Kenya)</td>\n",
              "      <td>Catholic Group (Kenya)</td>\n",
              "      <td>6</td>\n",
              "      <td>NaN</td>\n",
              "      <td>NaN</td>\n",
              "      <td>0</td>\n",
              "      <td>60</td>\n",
              "      <td>Kenya</td>\n",
              "      <td>Nakuru</td>\n",
              "      <td>Nakuru Town East</td>\n",
              "      <td>Kivumbini</td>\n",
              "      <td>Nakuru</td>\n",
              "      <td>1</td>\n",
              "      <td>0</td>\n",
              "    </tr>\n",
              "    <tr>\n",
              "      <th>4</th>\n",
              "      <td>5KEN</td>\n",
              "      <td>1997</td>\n",
              "      <td>Violence against civilians</td>\n",
              "      <td>Police Forces of Kenya (1978-2002)</td>\n",
              "      <td>NaN</td>\n",
              "      <td>1</td>\n",
              "      <td>Civilians (Kenya)</td>\n",
              "      <td>Safina Political Party</td>\n",
              "      <td>7</td>\n",
              "      <td>17</td>\n",
              "      <td>Kenya</td>\n",
              "      <td>Nyeri</td>\n",
              "      <td>Nyeri Town</td>\n",
              "      <td>Rware</td>\n",
              "      <td>Nyeri</td>\n",
              "      <td>1</td>\n",
              "      <td>0</td>\n",
              "    </tr>\n",
              "  </tbody>\n",
              "</table>\n",
              "</div>"
            ],
            "text/plain": [
              "  EVENT_ID_CNTY  YEAR  ... GEO_PRECISION FATALITIES\n",
              "0          1KEN  1997  ...             1         10\n",
              "1          2KEN  1997  ...             1          1\n",
              "2          3KEN  1997  ...             1          2\n",
              "3          4KEN  1997  ...             1          0\n",
              "4          5KEN  1997  ...             1          0\n",
              "\n",
              "[5 rows x 17 columns]"
            ]
          },
          "metadata": {},
          "execution_count": 14
        }
      ]
    },
    {
      "cell_type": "code",
      "metadata": {
        "colab": {
          "base_uri": "https://localhost:8080/"
        },
        "id": "GaLoIWzdBlq1",
        "outputId": "d29b7cc3-4a80-4a51-b67e-abedd71bbfc0"
      },
      "source": [
        "df1.shape"
      ],
      "execution_count": 15,
      "outputs": [
        {
          "output_type": "execute_result",
          "data": {
            "text/plain": [
              "(5041, 17)"
            ]
          },
          "metadata": {},
          "execution_count": 15
        }
      ]
    },
    {
      "cell_type": "markdown",
      "metadata": {
        "id": "Wg_HInjk0rJG"
      },
      "source": [
        "### 4.) Consitency"
      ]
    },
    {
      "cell_type": "code",
      "metadata": {
        "id": "_xg4tFiZ0sTN",
        "colab": {
          "base_uri": "https://localhost:8080/"
        },
        "outputId": "445d13f4-8d93-416e-d810-ca57f23bc53c"
      },
      "source": [
        "# Procedure 1:\n",
        "# Data Cleaning Action: Checking for duplicates and dropping duplicates\n",
        "# Explanation: Duplicate rows will bring inconsistent values in the dataset and they will have to be dropped.\n",
        "#There are no duplicate values\n",
        "df1.duplicated().sum()"
      ],
      "execution_count": 16,
      "outputs": [
        {
          "output_type": "execute_result",
          "data": {
            "text/plain": [
              "0"
            ]
          },
          "metadata": {},
          "execution_count": 16
        }
      ]
    },
    {
      "cell_type": "markdown",
      "metadata": {
        "id": "po-2IDPd0vdL"
      },
      "source": [
        "### 5.) Uniformity"
      ]
    },
    {
      "cell_type": "code",
      "metadata": {
        "id": "-3HTVQkC0xxj"
      },
      "source": [
        "# Procedure 2:\n",
        "# Data Cleaning Action: Uniformity in ACTOR 1 Police value.\n",
        "# Explanation: The police value has been divided to 3, based on year periods. The year periods are not needed and they will need to be read as a single value.\n",
        "#\n",
        "df1['ACTOR1'] = df1['ACTOR1'].replace('Police Forces of Kenya (1978-2002)','Kenya Police')\n",
        "df1['ACTOR1'] = df1['ACTOR1'].replace('Police Forces of Kenya (2002-2013)','Kenya Police')\n",
        "df1['ACTOR1'] = df1['ACTOR1'].replace('Police Forces of Kenya (2013-)','Kenya Police')\n"
      ],
      "execution_count": 17,
      "outputs": []
    },
    {
      "cell_type": "code",
      "metadata": {
        "id": "BbjBt1BwlDKj"
      },
      "source": [
        "df1['ACTOR2'] = df1['ACTOR2'].replace('Police Forces of Kenya (1978-2002)','Kenya Police')\n",
        "df1['ACTOR2'] = df1['ACTOR2'].replace('Police Forces of Kenya (2002-2013)','Kenya Police')\n",
        "df1['ACTOR2'] = df1['ACTOR2'].replace('Police Forces of Kenya (2013-)','Kenya Police')"
      ],
      "execution_count": 18,
      "outputs": []
    },
    {
      "cell_type": "markdown",
      "metadata": {
        "id": "dr1eyGZzt83Z"
      },
      "source": [
        "### Exporting the Cleaned Dataset"
      ]
    },
    {
      "cell_type": "code",
      "metadata": {
        "id": "igd8ULk7t95C",
        "colab": {
          "base_uri": "https://localhost:8080/",
          "height": 452
        },
        "outputId": "961b886b-9424-42b7-e8f2-c4addbdf1850"
      },
      "source": [
        "# Let's export our dataframe into a csv file as shown \n",
        "# we use the to_csv function to create a csv file and export it\n",
        "\n",
        "df1.to_csv('conflicts_kenya.csv')\n",
        "df2 = pd.read_csv('conflicts_kenya.csv', index_col=0)\n",
        "df2.head(5)\n"
      ],
      "execution_count": 19,
      "outputs": [
        {
          "output_type": "execute_result",
          "data": {
            "text/html": [
              "<div>\n",
              "<style scoped>\n",
              "    .dataframe tbody tr th:only-of-type {\n",
              "        vertical-align: middle;\n",
              "    }\n",
              "\n",
              "    .dataframe tbody tr th {\n",
              "        vertical-align: top;\n",
              "    }\n",
              "\n",
              "    .dataframe thead th {\n",
              "        text-align: right;\n",
              "    }\n",
              "</style>\n",
              "<table border=\"1\" class=\"dataframe\">\n",
              "  <thead>\n",
              "    <tr style=\"text-align: right;\">\n",
              "      <th></th>\n",
              "      <th>EVENT_ID_CNTY</th>\n",
              "      <th>YEAR</th>\n",
              "      <th>EVENT_TYPE</th>\n",
              "      <th>ACTOR1</th>\n",
              "      <th>ALLY_ACTOR_1</th>\n",
              "      <th>INTER1</th>\n",
              "      <th>ACTOR2</th>\n",
              "      <th>ALLY_ACTOR_2</th>\n",
              "      <th>INTER2</th>\n",
              "      <th>INTERACTION</th>\n",
              "      <th>COUNTRY</th>\n",
              "      <th>ADMIN1</th>\n",
              "      <th>ADMIN2</th>\n",
              "      <th>ADMIN3</th>\n",
              "      <th>LOCATION</th>\n",
              "      <th>GEO_PRECISION</th>\n",
              "      <th>FATALITIES</th>\n",
              "    </tr>\n",
              "  </thead>\n",
              "  <tbody>\n",
              "    <tr>\n",
              "      <th>0</th>\n",
              "      <td>1KEN</td>\n",
              "      <td>1997</td>\n",
              "      <td>Violence against civilians</td>\n",
              "      <td>Kenya Police</td>\n",
              "      <td>NaN</td>\n",
              "      <td>1</td>\n",
              "      <td>Civilians (Kenya)</td>\n",
              "      <td>Samburu Ethnic Group (Kenya); Turkana Ethnic G...</td>\n",
              "      <td>7</td>\n",
              "      <td>17</td>\n",
              "      <td>Kenya</td>\n",
              "      <td>Turkana</td>\n",
              "      <td>Turkana East</td>\n",
              "      <td>Katilia</td>\n",
              "      <td>Suguta Valley</td>\n",
              "      <td>1</td>\n",
              "      <td>10</td>\n",
              "    </tr>\n",
              "    <tr>\n",
              "      <th>1</th>\n",
              "      <td>2KEN</td>\n",
              "      <td>1997</td>\n",
              "      <td>Violence against civilians</td>\n",
              "      <td>Kenya Police</td>\n",
              "      <td>NaN</td>\n",
              "      <td>1</td>\n",
              "      <td>Civilians (International)</td>\n",
              "      <td>Wardei Ethnic Group (Kenya)</td>\n",
              "      <td>7</td>\n",
              "      <td>17</td>\n",
              "      <td>Kenya</td>\n",
              "      <td>Nakuru</td>\n",
              "      <td>Nakuru Town East</td>\n",
              "      <td>Kivumbini</td>\n",
              "      <td>Nakuru</td>\n",
              "      <td>1</td>\n",
              "      <td>1</td>\n",
              "    </tr>\n",
              "    <tr>\n",
              "      <th>2</th>\n",
              "      <td>3KEN</td>\n",
              "      <td>1997</td>\n",
              "      <td>Violence against civilians</td>\n",
              "      <td>Giriama Ethnic Militia (Kenya)</td>\n",
              "      <td>NaN</td>\n",
              "      <td>4</td>\n",
              "      <td>Civilians (Somalia)</td>\n",
              "      <td>IDPs/Refugees (Somalia)</td>\n",
              "      <td>7</td>\n",
              "      <td>47</td>\n",
              "      <td>Kenya</td>\n",
              "      <td>Mombasa</td>\n",
              "      <td>Mvita</td>\n",
              "      <td>Tononoka</td>\n",
              "      <td>Mombasa</td>\n",
              "      <td>1</td>\n",
              "      <td>2</td>\n",
              "    </tr>\n",
              "    <tr>\n",
              "      <th>3</th>\n",
              "      <td>4KEN</td>\n",
              "      <td>1997</td>\n",
              "      <td>Riots/Protests</td>\n",
              "      <td>Protesters (Kenya)</td>\n",
              "      <td>Catholic Group (Kenya)</td>\n",
              "      <td>6</td>\n",
              "      <td>NaN</td>\n",
              "      <td>NaN</td>\n",
              "      <td>0</td>\n",
              "      <td>60</td>\n",
              "      <td>Kenya</td>\n",
              "      <td>Nakuru</td>\n",
              "      <td>Nakuru Town East</td>\n",
              "      <td>Kivumbini</td>\n",
              "      <td>Nakuru</td>\n",
              "      <td>1</td>\n",
              "      <td>0</td>\n",
              "    </tr>\n",
              "    <tr>\n",
              "      <th>4</th>\n",
              "      <td>5KEN</td>\n",
              "      <td>1997</td>\n",
              "      <td>Violence against civilians</td>\n",
              "      <td>Kenya Police</td>\n",
              "      <td>NaN</td>\n",
              "      <td>1</td>\n",
              "      <td>Civilians (Kenya)</td>\n",
              "      <td>Safina Political Party</td>\n",
              "      <td>7</td>\n",
              "      <td>17</td>\n",
              "      <td>Kenya</td>\n",
              "      <td>Nyeri</td>\n",
              "      <td>Nyeri Town</td>\n",
              "      <td>Rware</td>\n",
              "      <td>Nyeri</td>\n",
              "      <td>1</td>\n",
              "      <td>0</td>\n",
              "    </tr>\n",
              "  </tbody>\n",
              "</table>\n",
              "</div>"
            ],
            "text/plain": [
              "  EVENT_ID_CNTY  YEAR  ... GEO_PRECISION FATALITIES\n",
              "0          1KEN  1997  ...             1         10\n",
              "1          2KEN  1997  ...             1          1\n",
              "2          3KEN  1997  ...             1          2\n",
              "3          4KEN  1997  ...             1          0\n",
              "4          5KEN  1997  ...             1          0\n",
              "\n",
              "[5 rows x 17 columns]"
            ]
          },
          "metadata": {},
          "execution_count": 19
        }
      ]
    },
    {
      "cell_type": "markdown",
      "metadata": {
        "id": "NicC8P9LMjvO"
      },
      "source": [
        "## 1.5 DATA ANALYSIS"
      ]
    },
    {
      "cell_type": "markdown",
      "metadata": {
        "id": "8izhaW7UNYGJ"
      },
      "source": [
        "Let's answer the following questions with our dataset"
      ]
    },
    {
      "cell_type": "code",
      "metadata": {
        "id": "tTOgnXvuMxcn",
        "colab": {
          "base_uri": "https://localhost:8080/"
        },
        "outputId": "0e4e5a59-9536-414d-a4f1-36e5dc822cbb"
      },
      "source": [
        "# Question 1\n",
        "# What is the main cause of conflicts in Kenya?(EVENT_TYPE)\n",
        " \n",
        "df2['EVENT_TYPE'].groupby(df2['EVENT_TYPE']).count().sort_values(ascending=False) [0:5]\n"
      ],
      "execution_count": 20,
      "outputs": [
        {
          "output_type": "execute_result",
          "data": {
            "text/plain": [
              "EVENT_TYPE\n",
              "Riots/Protests                   1914\n",
              "Violence against civilians       1671\n",
              "Battle-No change of territory    1125\n",
              "Strategic development             217\n",
              "Remote violence                    99\n",
              "Name: EVENT_TYPE, dtype: int64"
            ]
          },
          "metadata": {},
          "execution_count": 20
        }
      ]
    },
    {
      "cell_type": "markdown",
      "metadata": {
        "id": "JhJ4eW_e5L4v"
      },
      "source": [
        "Between 1978 and 2015, the main cause of conflicts in Kenya has been Riots/Protests."
      ]
    },
    {
      "cell_type": "code",
      "metadata": {
        "id": "BNegesaWNvQs",
        "colab": {
          "base_uri": "https://localhost:8080/"
        },
        "outputId": "14dfe8ee-9f8a-4e1f-8db5-10b311e6f4a0"
      },
      "source": [
        "# Question 2\n",
        "# Who was the main actor in conflict in Kenya?(ACTOR1)\n",
        "\n",
        "df2['ACTOR1'].groupby(df2['ACTOR1']).count().sort_values(ascending=False) [0:5]"
      ],
      "execution_count": 21,
      "outputs": [
        {
          "output_type": "execute_result",
          "data": {
            "text/plain": [
              "ACTOR1\n",
              "Protesters (Kenya)                  1022\n",
              "Rioters (Kenya)                      810\n",
              "Unidentified Armed Group (Kenya)     653\n",
              "Kenya Police                         625\n",
              "Vigilante Militia (Kenya)            164\n",
              "Name: ACTOR1, dtype: int64"
            ]
          },
          "metadata": {},
          "execution_count": 21
        }
      ]
    },
    {
      "cell_type": "markdown",
      "metadata": {
        "id": "j5CvCXfG5p-0"
      },
      "source": [
        "Kenyan protesters were involved in conflicts in Kenya between 1978 and 2015"
      ]
    },
    {
      "cell_type": "code",
      "metadata": {
        "id": "7tilTerhNyiP",
        "colab": {
          "base_uri": "https://localhost:8080/"
        },
        "outputId": "1cc8c18d-0746-4622-9a4c-6020197997ba"
      },
      "source": [
        "# Question 3\n",
        "# Who was the main ACTOR2 involved in Kenyan conflicts?\n",
        "\n",
        "df2['ACTOR2'].groupby(df2['ACTOR2']).count().sort_values(ascending=False) [0:5]"
      ],
      "execution_count": 22,
      "outputs": [
        {
          "output_type": "execute_result",
          "data": {
            "text/plain": [
              "ACTOR2\n",
              "Civilians (Kenya)                   1496\n",
              "Kenya Police                         713\n",
              "Unidentified Armed Group (Kenya)     231\n",
              "Rioters (Kenya)                      127\n",
              "Al Shabaab                           123\n",
              "Name: ACTOR2, dtype: int64"
            ]
          },
          "metadata": {},
          "execution_count": 22
        }
      ]
    },
    {
      "cell_type": "markdown",
      "metadata": {
        "id": "GNHV4lFN7402"
      },
      "source": [
        "Kenyan civilians were the most common secondary party in Kenyan conflicts between 1978 and 2015."
      ]
    },
    {
      "cell_type": "code",
      "metadata": {
        "id": "rhXeHa6IOBsq",
        "colab": {
          "base_uri": "https://localhost:8080/"
        },
        "outputId": "406f8a2b-b26a-4c14-8242-9a92b870190f"
      },
      "source": [
        "# Question 4\n",
        "# How many conflicts had ACTOR1 and no ACTOR2\n",
        "df2['ACTOR1'].loc[df2['ACTOR2'].isnull()].count()\n",
        "\n"
      ],
      "execution_count": 23,
      "outputs": [
        {
          "output_type": "execute_result",
          "data": {
            "text/plain": [
              "1479"
            ]
          },
          "metadata": {},
          "execution_count": 23
        }
      ]
    },
    {
      "cell_type": "code",
      "metadata": {
        "id": "wddDP6yCOD_F",
        "colab": {
          "base_uri": "https://localhost:8080/"
        },
        "outputId": "14a3bf84-3e86-4627-baba-56d58c7ca4b3"
      },
      "source": [
        "# Question 5\n",
        "#How many conflicts in kenya have the police been the main actors?\n",
        "\n",
        "df2['ACTOR1'].loc[df2['ACTOR1'] == 'Kenya Police'].count()"
      ],
      "execution_count": 24,
      "outputs": [
        {
          "output_type": "execute_result",
          "data": {
            "text/plain": [
              "625"
            ]
          },
          "metadata": {},
          "execution_count": 24
        }
      ]
    },
    {
      "cell_type": "markdown",
      "metadata": {
        "id": "x3yUHOhcoU03"
      },
      "source": [
        "Kenyan Police have been the main actor of 625 conflicts between 1978 and 2015"
      ]
    },
    {
      "cell_type": "code",
      "metadata": {
        "id": "CIxC5arSOLak",
        "colab": {
          "base_uri": "https://localhost:8080/"
        },
        "outputId": "864091fd-fcd3-44cb-8b89-ab81dd71df1e"
      },
      "source": [
        "# Question 6\n",
        "# How many conflicts have civilians in Kenya been the main actors\n",
        "\n",
        "df2['ACTOR1'].loc[df2['ACTOR1'] == 'Civilians (Kenya)'].count()"
      ],
      "execution_count": 25,
      "outputs": [
        {
          "output_type": "execute_result",
          "data": {
            "text/plain": [
              "133"
            ]
          },
          "metadata": {},
          "execution_count": 25
        }
      ]
    },
    {
      "cell_type": "markdown",
      "metadata": {
        "id": "-9r18obvCApO"
      },
      "source": [
        "Civilians have been main actors in 133 conflicts since 1978-2015"
      ]
    },
    {
      "cell_type": "code",
      "metadata": {
        "id": "gSjjnw56OP8O",
        "colab": {
          "base_uri": "https://localhost:8080/"
        },
        "outputId": "08abbd03-68c0-402f-eda9-6d4990823ae4"
      },
      "source": [
        "# Question 7\n",
        "# How many conflicts have the un-identified ethnic militia(Kenya) been the main actors\n",
        "\n",
        "df2['ACTOR1'].loc[df2['ACTOR1'] == 'Unidentified Ethnic Militia (Kenya)'].count()"
      ],
      "execution_count": 26,
      "outputs": [
        {
          "output_type": "execute_result",
          "data": {
            "text/plain": [
              "149"
            ]
          },
          "metadata": {},
          "execution_count": 26
        }
      ]
    },
    {
      "cell_type": "markdown",
      "metadata": {
        "id": "QZwaIct_Ch2o"
      },
      "source": [
        "Unidentified ethnic militia based in Kenya have been the  main actors in 164 conflicts"
      ]
    },
    {
      "cell_type": "code",
      "metadata": {
        "id": "UZLYqF7UOTtu",
        "colab": {
          "base_uri": "https://localhost:8080/"
        },
        "outputId": "8029765d-96db-40be-8466-a4c35c4fad84"
      },
      "source": [
        "# Question 8\n",
        "# Which city (admin1) has had the most conflicts?\n",
        "\n",
        "df2['ADMIN1'].groupby(df2['ADMIN1']).count().sort_values(ascending=False)[0:5]"
      ],
      "execution_count": 27,
      "outputs": [
        {
          "output_type": "execute_result",
          "data": {
            "text/plain": [
              "ADMIN1\n",
              "Nairobi    951\n",
              "Nakuru     317\n",
              "Mombasa    285\n",
              "Turkana    274\n",
              "Garissa    228\n",
              "Name: ADMIN1, dtype: int64"
            ]
          },
          "metadata": {},
          "execution_count": 27
        }
      ]
    },
    {
      "cell_type": "markdown",
      "metadata": {
        "id": "Fkc5Ye2rEIPw"
      },
      "source": [
        "Nairobi City had the most conflicts with 951 cases in the period."
      ]
    },
    {
      "cell_type": "code",
      "metadata": {
        "id": "1qk8wF3MOXDu",
        "colab": {
          "base_uri": "https://localhost:8080/"
        },
        "outputId": "a96f1a54-4d30-4f10-88a5-3539bde0ab5a"
      },
      "source": [
        "# Question 9\n",
        "# Which city has had the most fatalities? \n",
        "\n",
        "df2['FATALITIES'].groupby(df2['ADMIN1']).sum().sort_values(ascending=False)[0:5]\n"
      ],
      "execution_count": 28,
      "outputs": [
        {
          "output_type": "execute_result",
          "data": {
            "text/plain": [
              "ADMIN1\n",
              "Turkana     1444\n",
              "Nairobi      974\n",
              "Mandera      844\n",
              "Marsabit     637\n",
              "Nakuru       521\n",
              "Name: FATALITIES, dtype: int64"
            ]
          },
          "metadata": {},
          "execution_count": 28
        }
      ]
    },
    {
      "cell_type": "markdown",
      "metadata": {
        "id": "1RGwvVGEEzxN"
      },
      "source": [
        "Turkana had the most fatalities with atleast 1444 cases"
      ]
    },
    {
      "cell_type": "code",
      "metadata": {
        "id": "8xkStdjdXS3w"
      },
      "source": [
        "# Question 10\n",
        "# Is the city with the most conflicts the one that has had the most fatalities?\n",
        "\n",
        "#No, Nairobi had the most conflicts while Turkana had the most fatalities."
      ],
      "execution_count": 29,
      "outputs": []
    },
    {
      "cell_type": "markdown",
      "metadata": {
        "id": "CesKw7U4F2dL"
      },
      "source": [
        "No, Nairobi had the most conflicts while Turkana had the most fatalities."
      ]
    },
    {
      "cell_type": "code",
      "metadata": {
        "id": "rgVsXH_5XVCh",
        "colab": {
          "base_uri": "https://localhost:8080/"
        },
        "outputId": "acc66af2-88db-4664-bbb2-fe9059e8b05f"
      },
      "source": [
        "# Question 11\n",
        "# Which city (admin1) has had the least conflicts?\n",
        "df2['ADMIN1'].groupby(df2['ADMIN1']).count().sort_values(ascending=True)[0:1]\n"
      ],
      "execution_count": 30,
      "outputs": [
        {
          "output_type": "execute_result",
          "data": {
            "text/plain": [
              "ADMIN1\n",
              "Lake Victoria    3\n",
              "Name: ADMIN1, dtype: int64"
            ]
          },
          "metadata": {},
          "execution_count": 30
        }
      ]
    },
    {
      "cell_type": "markdown",
      "metadata": {
        "id": "YYKuz0XnGjfi"
      },
      "source": [
        "Lake Victoria had the least conflicts with 3 cases"
      ]
    },
    {
      "cell_type": "code",
      "metadata": {
        "id": "q1iq02FuXc2R",
        "colab": {
          "base_uri": "https://localhost:8080/"
        },
        "outputId": "3e718149-71da-42ed-ae82-4c8071b1ae59"
      },
      "source": [
        "# Question 12\n",
        "#Which city has had the least fatalities? \n",
        "#\n",
        "df2['FATALITIES'].groupby(df2['ADMIN1']).sum().sort_values(ascending=True)[0:1]"
      ],
      "execution_count": 31,
      "outputs": [
        {
          "output_type": "execute_result",
          "data": {
            "text/plain": [
              "ADMIN1\n",
              "Lake Victoria    0\n",
              "Name: FATALITIES, dtype: int64"
            ]
          },
          "metadata": {},
          "execution_count": 31
        }
      ]
    },
    {
      "cell_type": "markdown",
      "metadata": {
        "id": "JHAFjPZmG_ka"
      },
      "source": [
        "**Lake Victoria had the least fatalities with 0 cases"
      ]
    },
    {
      "cell_type": "code",
      "metadata": {
        "id": "drAWpxBZXhcF"
      },
      "source": [
        "# Question 13 \n",
        "#Is the city with the least conflicts the one that has had the least fatalities\n",
        "\n",
        "#YES"
      ],
      "execution_count": 32,
      "outputs": []
    },
    {
      "cell_type": "markdown",
      "metadata": {
        "id": "_DuFY1PFHHlR"
      },
      "source": [
        "YES"
      ]
    },
    {
      "cell_type": "code",
      "metadata": {
        "colab": {
          "base_uri": "https://localhost:8080/"
        },
        "id": "5u-b0D4HHWa6",
        "outputId": "b59f874e-a052-443c-bca5-db9e33a80002"
      },
      "source": [
        "# Question 14\n",
        "# Which year had the most conflicts?\n",
        "\n",
        "df2['EVENT_TYPE'].groupby(df2['YEAR']).count().sort_values(ascending=False)[0:5]\n"
      ],
      "execution_count": 33,
      "outputs": [
        {
          "output_type": "execute_result",
          "data": {
            "text/plain": [
              "YEAR\n",
              "2013    668\n",
              "2014    468\n",
              "2008    464\n",
              "2012    436\n",
              "2007    434\n",
              "Name: EVENT_TYPE, dtype: int64"
            ]
          },
          "metadata": {},
          "execution_count": 33
        }
      ]
    },
    {
      "cell_type": "markdown",
      "metadata": {
        "id": "_pGDTIcaH8GP"
      },
      "source": [
        "2013 had the most conflicts overall wuth 668 cases"
      ]
    },
    {
      "cell_type": "code",
      "metadata": {
        "colab": {
          "base_uri": "https://localhost:8080/"
        },
        "id": "nNPZqa-QHi5G",
        "outputId": "2fa2b131-e05b-4e50-d157-e1ecd3d35af7"
      },
      "source": [
        "#Question 15\n",
        "# What was the main cause of conflicts that year(event type)?\n",
        "\n",
        "df2['EVENT_TYPE'].loc[df2['YEAR'] == 2013].groupby(df2['EVENT_TYPE']).count().sort_values(ascending=False)[0:1]"
      ],
      "execution_count": 34,
      "outputs": [
        {
          "output_type": "execute_result",
          "data": {
            "text/plain": [
              "EVENT_TYPE\n",
              "Riots/Protests    284\n",
              "Name: EVENT_TYPE, dtype: int64"
            ]
          },
          "metadata": {},
          "execution_count": 34
        }
      ]
    },
    {
      "cell_type": "markdown",
      "metadata": {
        "id": "OfHkKlMxIhwi"
      },
      "source": [
        "The main cause of conflict in 2013 was Riots/Protests with 284 cases"
      ]
    },
    {
      "cell_type": "markdown",
      "metadata": {
        "id": "hMLeNL3_FbFq"
      },
      "source": [
        "## **Findings**\n",
        "\n",
        "1. The main cause of conflict in Kenya was Riots/Protests with a value of 1914. \n",
        "\n",
        "2. The main actors involved were protesters with a value of 1022.  \n",
        "\n",
        "3. Nairobi was the city that was susceptible to most conflict cases. However, it was not the city with the most fatalities.\n",
        "\n"
      ]
    },
    {
      "cell_type": "markdown",
      "metadata": {
        "id": "0lG_QLTKHuyf"
      },
      "source": [
        "# **Recommendations**\n",
        "\n",
        "The main cause of conflict in Kenya has been riots/protests and the main actors protesters. The ministry can use this information to find better ways of dealing with protests and protesters. The Kenya Police were found to be a prevalent actor in conflicts and they being handlers of protests can identify the best ways to handle them. Protesters and the people of the state can also be advised and shown ways they can handle their protests peacefully. \n",
        "So that fatalities can be kept at a minimum."
      ]
    }
  ]
}